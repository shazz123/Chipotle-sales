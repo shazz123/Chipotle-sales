{
 "cells": [
  {
   "cell_type": "code",
   "execution_count": 1,
   "id": "b92771cf",
   "metadata": {},
   "outputs": [],
   "source": [
    "import pandas as pd\n",
    "import numpy as np\n"
   ]
  },
  {
   "cell_type": "code",
   "execution_count": 2,
   "id": "bb6ac2d0",
   "metadata": {},
   "outputs": [
    {
     "name": "stdout",
     "output_type": "stream",
     "text": [
      "C:\\Users\\shahz\\downloads\n"
     ]
    }
   ],
   "source": [
    "cd downloads"
   ]
  },
  {
   "cell_type": "code",
   "execution_count": 3,
   "id": "05c6096f",
   "metadata": {},
   "outputs": [],
   "source": [
    "data=pd.read_excel('data_chip.xlsx')"
   ]
  },
  {
   "cell_type": "code",
   "execution_count": 4,
   "id": "9e459329",
   "metadata": {},
   "outputs": [
    {
     "data": {
      "text/html": [
       "<div>\n",
       "<style scoped>\n",
       "    .dataframe tbody tr th:only-of-type {\n",
       "        vertical-align: middle;\n",
       "    }\n",
       "\n",
       "    .dataframe tbody tr th {\n",
       "        vertical-align: top;\n",
       "    }\n",
       "\n",
       "    .dataframe thead th {\n",
       "        text-align: right;\n",
       "    }\n",
       "</style>\n",
       "<table border=\"1\" class=\"dataframe\">\n",
       "  <thead>\n",
       "    <tr style=\"text-align: right;\">\n",
       "      <th></th>\n",
       "      <th>order_id</th>\n",
       "      <th>quantity</th>\n",
       "      <th>item_name</th>\n",
       "      <th>choice_description</th>\n",
       "      <th>item_price</th>\n",
       "    </tr>\n",
       "  </thead>\n",
       "  <tbody>\n",
       "    <tr>\n",
       "      <th>0</th>\n",
       "      <td>1</td>\n",
       "      <td>1</td>\n",
       "      <td>Chips and Fresh Tomato Salsa</td>\n",
       "      <td>NaN</td>\n",
       "      <td>$2.39</td>\n",
       "    </tr>\n",
       "    <tr>\n",
       "      <th>1</th>\n",
       "      <td>1</td>\n",
       "      <td>1</td>\n",
       "      <td>Izze</td>\n",
       "      <td>[Clementine]</td>\n",
       "      <td>$3.39</td>\n",
       "    </tr>\n",
       "    <tr>\n",
       "      <th>2</th>\n",
       "      <td>1</td>\n",
       "      <td>1</td>\n",
       "      <td>Nantucket Nectar</td>\n",
       "      <td>[Apple]</td>\n",
       "      <td>$3.39</td>\n",
       "    </tr>\n",
       "    <tr>\n",
       "      <th>3</th>\n",
       "      <td>1</td>\n",
       "      <td>1</td>\n",
       "      <td>Chips and Tomatillo-Green Chili Salsa</td>\n",
       "      <td>NaN</td>\n",
       "      <td>$2.39</td>\n",
       "    </tr>\n",
       "    <tr>\n",
       "      <th>4</th>\n",
       "      <td>2</td>\n",
       "      <td>2</td>\n",
       "      <td>Chicken Bowl</td>\n",
       "      <td>[Tomatillo-Red Chili Salsa (Hot), [Black Beans...</td>\n",
       "      <td>$16.98</td>\n",
       "    </tr>\n",
       "  </tbody>\n",
       "</table>\n",
       "</div>"
      ],
      "text/plain": [
       "   order_id  quantity                              item_name  \\\n",
       "0         1         1           Chips and Fresh Tomato Salsa   \n",
       "1         1         1                                   Izze   \n",
       "2         1         1                       Nantucket Nectar   \n",
       "3         1         1  Chips and Tomatillo-Green Chili Salsa   \n",
       "4         2         2                           Chicken Bowl   \n",
       "\n",
       "                                  choice_description item_price  \n",
       "0                                                NaN     $2.39   \n",
       "1                                       [Clementine]     $3.39   \n",
       "2                                            [Apple]     $3.39   \n",
       "3                                                NaN     $2.39   \n",
       "4  [Tomatillo-Red Chili Salsa (Hot), [Black Beans...    $16.98   "
      ]
     },
     "execution_count": 4,
     "metadata": {},
     "output_type": "execute_result"
    }
   ],
   "source": [
    "data.head()"
   ]
  },
  {
   "cell_type": "code",
   "execution_count": 5,
   "id": "46fdae0b",
   "metadata": {},
   "outputs": [
    {
     "name": "stdout",
     "output_type": "stream",
     "text": [
      "<class 'pandas.core.frame.DataFrame'>\n",
      "RangeIndex: 4622 entries, 0 to 4621\n",
      "Data columns (total 5 columns):\n",
      " #   Column              Non-Null Count  Dtype \n",
      "---  ------              --------------  ----- \n",
      " 0   order_id            4622 non-null   int64 \n",
      " 1   quantity            4622 non-null   int64 \n",
      " 2   item_name           4622 non-null   object\n",
      " 3   choice_description  3376 non-null   object\n",
      " 4   item_price          4622 non-null   object\n",
      "dtypes: int64(2), object(3)\n",
      "memory usage: 180.7+ KB\n"
     ]
    }
   ],
   "source": [
    "data .info()"
   ]
  },
  {
   "cell_type": "code",
   "execution_count": 6,
   "id": "f7e7c47e",
   "metadata": {},
   "outputs": [
    {
     "data": {
      "text/plain": [
       "Index(['order_id', 'quantity', 'item_name', 'choice_description',\n",
       "       'item_price'],\n",
       "      dtype='object')"
      ]
     },
     "execution_count": 6,
     "metadata": {},
     "output_type": "execute_result"
    }
   ],
   "source": [
    "data.columns"
   ]
  },
  {
   "cell_type": "markdown",
   "id": "88874e3d",
   "metadata": {},
   "source": [
    "### 1. Which was the most-ordered item?"
   ]
  },
  {
   "cell_type": "code",
   "execution_count": 7,
   "id": "dc67592f",
   "metadata": {},
   "outputs": [
    {
     "name": "stdout",
     "output_type": "stream",
     "text": [
      "The most ordered item is: Chicken Bowl\n"
     ]
    }
   ],
   "source": [
    "# Group the data by item and sum the quantities\n",
    "item_counts = data.groupby('item_name')['quantity'].sum().reset_index()\n",
    "\n",
    "# Find the most ordered item\n",
    "most_ordered_item = item_counts.loc[item_counts['quantity'].idxmax()]\n",
    "\n",
    "# Print the result\n",
    "print(\"The most ordered item is:\", most_ordered_item['item_name'])"
   ]
  },
  {
   "cell_type": "markdown",
   "id": "8a067f90",
   "metadata": {},
   "source": [
    "### 2. For the most-ordered item, how many items were ordered?"
   ]
  },
  {
   "cell_type": "code",
   "execution_count": 8,
   "id": "53b5c37e",
   "metadata": {},
   "outputs": [
    {
     "name": "stdout",
     "output_type": "stream",
     "text": [
      "The quantity ordered for most ordered item is :  761 \n"
     ]
    }
   ],
   "source": [
    "# Group the data by 'item' and sum the 'quantity' for each item\n",
    "item_counts = data.groupby('item_name')['quantity'].sum().reset_index()\n",
    "\n",
    "# Find the most ordered item\n",
    "most_ordered_item = item_counts.loc[item_counts['quantity'].idxmax()]\n",
    "\n",
    "# Extract the item and its quantity\n",
    "most_ordered_item_name = most_ordered_item['item_name']\n",
    "most_ordered_item_quantity = most_ordered_item['quantity']\n",
    "\n",
    "# Print the results\n",
    "print(f\"The quantity ordered for most ordered item is :  {most_ordered_item_quantity} \")"
   ]
  },
  {
   "cell_type": "markdown",
   "id": "d78afe6b",
   "metadata": {},
   "source": [
    "### 3. What was the most ordered item in the choice_description column?"
   ]
  },
  {
   "cell_type": "code",
   "execution_count": 9,
   "id": "db8b9d45",
   "metadata": {},
   "outputs": [
    {
     "name": "stdout",
     "output_type": "stream",
     "text": [
      "The_most_ordered_item_is 'Unknown' with 1382 items ordered.\n"
     ]
    }
   ],
   "source": [
    "# Fill NaN values in 'choice_description' with a placeholder (e.g., 'Unknown')\n",
    "data['choice_description'].fillna('Unknown', inplace=True)\n",
    "\n",
    "# Group the data by 'choice_description' and sum the 'quantity' for each choice description\n",
    "choice_counts = data.groupby('choice_description')['quantity'].sum().reset_index()\n",
    "\n",
    "# Sort the results in descending order based on quantity\n",
    "sorted_choice_counts = choice_counts.sort_values(by='quantity', ascending=False)\n",
    "\n",
    "#Find the first most ordered choice description \n",
    "first_most_ordered_choice = sorted_choice_counts.iloc[0]\n",
    "\n",
    "#Find the first most ordered choice description quantity\n",
    "first_most_ordered_choice_description = first_most_ordered_choice['choice_description']\n",
    "first_most_ordered_choice_quantity = first_most_ordered_choice['quantity']\n",
    "\n",
    "\n",
    "# Print the result\n",
    "print(f\"The_most_ordered_item_is '{first_most_ordered_choice_description}' with \n",
    "      {first_most_ordered_choice_quantity} items ordered.\")\n"
   ]
  },
  {
   "cell_type": "code",
   "execution_count": 10,
   "id": "b419ef7b",
   "metadata": {},
   "outputs": [
    {
     "name": "stdout",
     "output_type": "stream",
     "text": [
      "The second most ordered choice description is '[Diet Coke]' with 159 items ordered.\n"
     ]
    }
   ],
   "source": [
    "# Fill NaN values in 'choice_description' with a placeholder (e.g., 'Unknown')\n",
    "data['choice_description'].fillna('Unknown', inplace=True)\n",
    "\n",
    "# Group the data by 'choice_description' and sum the 'quantity' for each choice description\n",
    "choice_counts = data.groupby('choice_description')['quantity'].sum().reset_index()\n",
    "\n",
    "# Sort the results in descending order based on quantity\n",
    "sorted_choice_counts = choice_counts.sort_values(by='quantity', ascending=False)\n",
    "\n",
    "# Find the second most ordered choice description (skip the first, which is 'Unknown' or NaN)\n",
    "second_most_ordered_choice = sorted_choice_counts.iloc[1]\n",
    "\n",
    "# Extract the choice description and its quantity\n",
    "second_most_ordered_choice_description = second_most_ordered_choice['choice_description']\n",
    "second_most_ordered_choice_quantity = second_most_ordered_choice['quantity']\n",
    "# Print the result\n",
    "print(f\"The second most ordered choice description is '{second_most_ordered_choice_description}' with \n",
    "      {second_most_ordered_choice_quantity} items ordered.\")\n"
   ]
  },
  {
   "cell_type": "markdown",
   "id": "9f3472c4",
   "metadata": {},
   "source": [
    "### 4. How many items were ordered in total?"
   ]
  },
  {
   "cell_type": "code",
   "execution_count": 11,
   "id": "ed27d3f0",
   "metadata": {
    "scrolled": true
   },
   "outputs": [
    {
     "name": "stdout",
     "output_type": "stream",
     "text": [
      "The total number of items ordered is: 4972\n"
     ]
    }
   ],
   "source": [
    "# Calculate the total number of items ordered\n",
    "total_items_ordered = data['quantity'].sum()\n",
    "\n",
    "# Print the result\n",
    "print(f\"The total number of items ordered is: {total_items_ordered}\")"
   ]
  },
  {
   "cell_type": "markdown",
   "id": "49d409ee",
   "metadata": {},
   "source": [
    "### 5. Turn the item price into a float"
   ]
  },
  {
   "cell_type": "code",
   "execution_count": 12,
   "id": "6bd2a13f",
   "metadata": {
    "scrolled": true
   },
   "outputs": [
    {
     "name": "stdout",
     "output_type": "stream",
     "text": [
      "      order_id  quantity                              item_name  \\\n",
      "0            1         1           Chips and Fresh Tomato Salsa   \n",
      "1            1         1                                   Izze   \n",
      "2            1         1                       Nantucket Nectar   \n",
      "3            1         1  Chips and Tomatillo-Green Chili Salsa   \n",
      "4            2         2                           Chicken Bowl   \n",
      "...        ...       ...                                    ...   \n",
      "4617      1833         1                          Steak Burrito   \n",
      "4618      1833         1                          Steak Burrito   \n",
      "4619      1834         1                     Chicken Salad Bowl   \n",
      "4620      1834         1                     Chicken Salad Bowl   \n",
      "4621      1834         1                     Chicken Salad Bowl   \n",
      "\n",
      "                                     choice_description  item_price  \n",
      "0                                               Unknown         1.0  \n",
      "1                                          [Clementine]         1.0  \n",
      "2                                               [Apple]         1.0  \n",
      "3                                               Unknown         1.0  \n",
      "4     [Tomatillo-Red Chili Salsa (Hot), [Black Beans...         1.0  \n",
      "...                                                 ...         ...  \n",
      "4617  [Fresh Tomato Salsa, [Rice, Black Beans, Sour ...         1.0  \n",
      "4618  [Fresh Tomato Salsa, [Rice, Sour Cream, Cheese...         1.0  \n",
      "4619  [Fresh Tomato Salsa, [Fajita Vegetables, Pinto...         1.0  \n",
      "4620  [Fresh Tomato Salsa, [Fajita Vegetables, Lettu...         1.0  \n",
      "4621  [Fresh Tomato Salsa, [Fajita Vegetables, Pinto...         1.0  \n",
      "\n",
      "[4622 rows x 5 columns]\n"
     ]
    }
   ],
   "source": [
    "# Fill NaN values in 'choice_description' with a placeholder (e.g., 'Unknown')\n",
    "data['choice_description'].fillna('Unknown', inplace=True)\n",
    "\n",
    "#replace '$' \n",
    "data['item_price'] = data['item_price'].replace('$', '').inplace=True\n",
    "\n",
    "# Convert 'item price' column to float\n",
    "data['item_price'] = data['item_price'].astype(float)\n",
    "\n",
    "# Print the DataFrame to verify the conversion\n",
    "print(data)"
   ]
  },
  {
   "cell_type": "code",
   "execution_count": 13,
   "id": "567f61c0",
   "metadata": {},
   "outputs": [
    {
     "name": "stdout",
     "output_type": "stream",
     "text": [
      "<class 'pandas.core.frame.DataFrame'>\n",
      "RangeIndex: 4622 entries, 0 to 4621\n",
      "Data columns (total 5 columns):\n",
      " #   Column              Non-Null Count  Dtype  \n",
      "---  ------              --------------  -----  \n",
      " 0   order_id            4622 non-null   int64  \n",
      " 1   quantity            4622 non-null   int64  \n",
      " 2   item_name           4622 non-null   object \n",
      " 3   choice_description  4622 non-null   object \n",
      " 4   item_price          4622 non-null   float64\n",
      "dtypes: float64(1), int64(2), object(2)\n",
      "memory usage: 180.7+ KB\n"
     ]
    }
   ],
   "source": [
    "data.info()"
   ]
  },
  {
   "cell_type": "markdown",
   "id": "7eda03dc",
   "metadata": {},
   "source": [
    "### 6. How much was the revenue for the period in the dataset?"
   ]
  },
  {
   "cell_type": "code",
   "execution_count": 14,
   "id": "6732579f",
   "metadata": {},
   "outputs": [
    {
     "name": "stdout",
     "output_type": "stream",
     "text": [
      "The total revenue for the period is: $4972.00\n"
     ]
    }
   ],
   "source": [
    "# Calculate the revenue for each row and add it as a new column 'revenue'\n",
    "data['revenue'] = data['quantity'] * data['item_price']\n",
    "\n",
    "# Calculate the total revenue for the period\n",
    "total_revenue = data['revenue'].sum()\n",
    "\n",
    "# Print the total revenue\n",
    "print(f\"The total revenue for the period is: ${total_revenue:.2f}\")"
   ]
  },
  {
   "cell_type": "markdown",
   "id": "2961a598",
   "metadata": {},
   "source": [
    "### 7. How many orders were made in the period?"
   ]
  },
  {
   "cell_type": "code",
   "execution_count": 15,
   "id": "a677162d",
   "metadata": {},
   "outputs": [
    {
     "name": "stdout",
     "output_type": "stream",
     "text": [
      "The total number of orders made in the period is: 1834\n"
     ]
    }
   ],
   "source": [
    "# Count the number of unique orders made in the period\n",
    "total_orders = data['order_id'].nunique()\n",
    "\n",
    "# Print the total number of orders\n",
    "print(f\"The total number of orders made in the period is: {total_orders}\")"
   ]
  },
  {
   "cell_type": "markdown",
   "id": "f4481c12",
   "metadata": {},
   "source": [
    "### 8. What is the average revenue amount per order?"
   ]
  },
  {
   "cell_type": "code",
   "execution_count": 16,
   "id": "2d97ab3a",
   "metadata": {},
   "outputs": [
    {
     "name": "stdout",
     "output_type": "stream",
     "text": [
      "The average revenue amount per order is: $2.71\n"
     ]
    }
   ],
   "source": [
    "# Calculate the average revenue per order\n",
    "average_revenue_per_order = total_revenue / total_orders\n",
    "\n",
    "# Print the average revenue per order\n",
    "print(f\"The average revenue amount per order is: ${average_revenue_per_order:.2f}\")"
   ]
  },
  {
   "cell_type": "markdown",
   "id": "d1137dce",
   "metadata": {},
   "source": [
    "### 9. How many different items are sold?"
   ]
  },
  {
   "cell_type": "code",
   "execution_count": 17,
   "id": "bcf374fb",
   "metadata": {},
   "outputs": [
    {
     "name": "stdout",
     "output_type": "stream",
     "text": [
      "The number of different items sold is: 50\n"
     ]
    }
   ],
   "source": [
    "# Count the number of different items sold\n",
    "different_items_sold = data['item_name'].nunique()\n",
    "\n",
    "# Print the number of different items sold\n",
    "print(f\"The number of different items sold is: {different_items_sold}\")"
   ]
  }
 ],
 "metadata": {
  "kernelspec": {
   "display_name": "Python 3 (ipykernel)",
   "language": "python",
   "name": "python3"
  },
  "language_info": {
   "codemirror_mode": {
    "name": "ipython",
    "version": 3
   },
   "file_extension": ".py",
   "mimetype": "text/x-python",
   "name": "python",
   "nbconvert_exporter": "python",
   "pygments_lexer": "ipython3",
   "version": "3.11.4"
  }
 },
 "nbformat": 4,
 "nbformat_minor": 5
}
